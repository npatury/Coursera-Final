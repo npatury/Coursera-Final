{
 "cells": [
  {
   "cell_type": "markdown",
   "id": "df8ab8b8-0110-466f-924c-06765de95cee",
   "metadata": {},
   "source": [
    "# Data Science Final Project"
   ]
  },
  {
   "cell_type": "markdown",
   "id": "4fa990aa-3813-48ff-8836-55cfc1b89122",
   "metadata": {},
   "source": [
    "## Introduction\n",
    "This notebook is a final project for the Data Science course. It demonstrates various skills in data science, including the use of markdown cells, code cells, and basic arithmetic operations.\n"
   ]
  },
  {
   "cell_type": "markdown",
   "id": "e1c4f7ff-4d43-4fc9-a97c-02187cc89323",
   "metadata": {},
   "source": [
    "## Data Science Languages\n",
    "- Python\n",
    "- R\n",
    "- SQL\n",
    "- Julia\n",
    "- Scala\n"
   ]
  },
  {
   "cell_type": "markdown",
   "id": "4cec7a1f-2227-4b1e-a278-d7c2a9342c6e",
   "metadata": {},
   "source": [
    "## Data Science Libraries\n",
    "- Pandas\n",
    "- NumPy\n",
    "- Matplotlib\n",
    "- Scikit-learn\n",
    "- TensorFlow\n"
   ]
  },
  {
   "cell_type": "markdown",
   "id": "4ce5147a-01de-4d92-b64f-3d7b342309bb",
   "metadata": {},
   "source": [
    "## Data Science Tools\n",
    "\n",
    "| Tool         | Description                          |\n",
    "|--------------|--------------------------------------|\n",
    "| Jupyter      | Interactive computing environment    |\n",
    "| RStudio      | Integrated development environment   |\n",
    "| Apache Spark | Cluster-computing framework          |\n",
    "| Tableau      | Data visualization tool              |\n",
    "| Power BI     | Business analytics tool              |\n"
   ]
  },
  {
   "cell_type": "markdown",
   "id": "bccdd354-1b26-428e-a683-96bad9fa39e1",
   "metadata": {},
   "source": [
    "## Arithmetic Expression Examples\n",
    "Below are examples of basic arithmetic operations including addition and multiplication.\n"
   ]
  },
  {
   "cell_type": "code",
   "execution_count": 1,
   "id": "7b23f320-1704-4b78-b1f7-2c7892850af4",
   "metadata": {
    "tags": []
   },
   "outputs": [
    {
     "data": {
      "text/plain": [
       "(15, 8)"
      ]
     },
     "execution_count": 1,
     "metadata": {},
     "output_type": "execute_result"
    }
   ],
   "source": [
    "# Multiplying and adding numbers\n",
    "a = 5\n",
    "b = 3\n",
    "result_multiplication = a * b\n",
    "result_addition = a + b\n",
    "\n",
    "result_multiplication, result_addition\n"
   ]
  },
  {
   "cell_type": "code",
   "execution_count": 2,
   "id": "bd11d952-1abe-4e9a-a504-b24473a50ead",
   "metadata": {
    "tags": []
   },
   "outputs": [
    {
     "data": {
      "text/plain": [
       "2.0"
      ]
     },
     "execution_count": 2,
     "metadata": {},
     "output_type": "execute_result"
    }
   ],
   "source": [
    "# Convert minutes to hours\n",
    "minutes = 120\n",
    "hours = minutes / 60\n",
    "\n",
    "hours\n"
   ]
  },
  {
   "cell_type": "markdown",
   "id": "2736e16e-af76-4909-afd9-f8f5adf4ce18",
   "metadata": {},
   "source": [
    "## Objectives\n",
    "- Learn the basics of Markdown.\n",
    "- Understand how to create and use code cells.\n",
    "- Perform basic arithmetic operations.\n",
    "- Convert units of time.\n",
    "- Share and present data using Jupyter Notebook.\n"
   ]
  },
  {
   "cell_type": "markdown",
   "id": "4103e4b0-0fec-4b6d-a208-88563b6b39db",
   "metadata": {},
   "source": [
    "## Author\n",
    "Navya Patury\n"
   ]
  }
 ],
 "metadata": {
  "kernelspec": {
   "display_name": "Python 3 (ipykernel)",
   "language": "python",
   "name": "python3"
  },
  "language_info": {
   "codemirror_mode": {
    "name": "ipython",
    "version": 3
   },
   "file_extension": ".py",
   "mimetype": "text/x-python",
   "name": "python",
   "nbconvert_exporter": "python",
   "pygments_lexer": "ipython3",
   "version": "3.11.5"
  }
 },
 "nbformat": 4,
 "nbformat_minor": 5
}
